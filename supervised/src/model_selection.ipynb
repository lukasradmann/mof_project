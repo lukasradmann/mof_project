{
 "cells": [
  {
   "cell_type": "code",
   "execution_count": null,
   "metadata": {},
   "outputs": [],
   "source": [
    "import pandas as pd\n",
    "from sklearn.ensemble import RandomForestRegressor\n",
    "from sklearn.model_selection import cross_val_score\n",
    "from xgboost.sklearn import XGBRegressor\n",
    "from sklearn.linear_model import LinearRegression\n",
    "from sklearn.svm import SVR\n",
    "from sklearn.linear_model import SGDRegressor\n",
    "from sklearn.ensemble import GradientBoostingRegressor\n",
    "from sklearn.linear_model import ElasticNet\n",
    "from sklearn.decomposition import PCA"
   ]
  },
  {
   "cell_type": "code",
   "execution_count": 3,
   "metadata": {},
   "outputs": [],
   "source": [
    "df = pd.read_csv('../data/processed_MOFs.csv')\n",
    "df.drop(columns='MOFname', inplace=True)\n",
    "X = df.copy()\n",
    "Y = X.pop('CO2_uptake_P0.15bar_T298K [mmol/g]')\n",
    "\n",
    "X_scaled = (X - X.mean(axis=0)) / X.std(axis=0)"
   ]
  },
  {
   "cell_type": "code",
   "execution_count": 4,
   "metadata": {},
   "outputs": [],
   "source": [
    "# Create 4 principal components\n",
    "pca = PCA(4)\n",
    "X_pca = pca.fit_transform(X_scaled)\n",
    "\n",
    "# Convert to dataframe\n",
    "component_names = [f\"PC{i+1}\" for i in range(X_pca.shape[1])]\n",
    "X_pca = pd.DataFrame(X_pca, columns=component_names)"
   ]
  },
  {
   "cell_type": "code",
   "execution_count": 25,
   "metadata": {},
   "outputs": [
    {
     "name": "stdout",
     "output_type": "stream",
     "text": [
      "RandomForestRegressor: Mean MAE = 0.2270\n",
      "XGBRegressor: Mean MAE = 0.2434\n",
      "LinearRegression: Mean MAE = 0.2725\n",
      "SVR: Mean MAE = 0.2283\n",
      "SGDRegressor: Mean MAE = 0.2736\n",
      "GradientBoostingRegressor: Mean MAE = 0.2373\n",
      "ElasticNet: Mean MAE = 0.3521\n"
     ]
    }
   ],
   "source": [
    "x = X_pca.sample(frac=0.01, random_state=42)\n",
    "y = Y.loc[x.index]\n",
    "\n",
    "models = [RandomForestRegressor(), XGBRegressor(), LinearRegression(), SVR(), SGDRegressor(), GradientBoostingRegressor(), ElasticNet()]\n",
    "\n",
    "\n",
    "for model in models:\n",
    "    score = cross_val_score(model, x, y, cv=5, scoring='neg_mean_absolute_error')\n",
    "    score = -score.mean() # MAE\n",
    "    print(f\"{model.__class__.__name__}: Mean MAE = {score:.4f}\")\n",
    "\n"
   ]
  },
  {
   "cell_type": "code",
   "execution_count": 26,
   "metadata": {},
   "outputs": [
    {
     "name": "stdout",
     "output_type": "stream",
     "text": [
      "RandomForestRegressor: Mean MAE = 0.1953\n",
      "XGBRegressor: Mean MAE = 0.2014\n",
      "LinearRegression: Mean MAE = 0.2747\n",
      "SVR: Mean MAE = 0.2102\n",
      "SGDRegressor: Mean MAE = 0.2740\n",
      "GradientBoostingRegressor: Mean MAE = 0.2004\n",
      "ElasticNet: Mean MAE = 0.3737\n"
     ]
    }
   ],
   "source": [
    "x_all = X_scaled.loc[x.index]\n",
    "x_all.columns = x_all.columns.str.replace(r'[\\[\\]<]', '', regex=True)\n",
    "\n",
    "for model in models:\n",
    "    score = cross_val_score(model, x_all, y, cv=5, scoring='neg_mean_absolute_error')\n",
    "    score = -score.mean() # MAE\n",
    "    print(f\"{model.__class__.__name__}: Mean MAE = {score:.4f}\")\n"
   ]
  }
 ],
 "metadata": {
  "kernelspec": {
   "display_name": "Python 3",
   "language": "python",
   "name": "python3"
  },
  "language_info": {
   "codemirror_mode": {
    "name": "ipython",
    "version": 3
   },
   "file_extension": ".py",
   "mimetype": "text/x-python",
   "name": "python",
   "nbconvert_exporter": "python",
   "pygments_lexer": "ipython3",
   "version": "3.9.19"
  }
 },
 "nbformat": 4,
 "nbformat_minor": 2
}
